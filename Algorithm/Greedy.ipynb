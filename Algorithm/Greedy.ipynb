{
  "nbformat": 4,
  "nbformat_minor": 0,
  "metadata": {
    "colab": {
      "provenance": [],
      "include_colab_link": true
    },
    "kernelspec": {
      "name": "python3",
      "display_name": "Python 3"
    },
    "language_info": {
      "name": "python"
    }
  },
  "cells": [
    {
      "cell_type": "markdown",
      "metadata": {
        "id": "view-in-github",
        "colab_type": "text"
      },
      "source": [
        "<a href=\"https://colab.research.google.com/github/Dms-zi/2022_SYU/blob/main/Algorithm/Greedy.ipynb\" target=\"_parent\"><img src=\"https://colab.research.google.com/assets/colab-badge.svg\" alt=\"Open In Colab\"/></a>"
      ]
    },
    {
      "cell_type": "markdown",
      "source": [
        "### 그리디 Greedy\n",
        "* 현재 상황에서 가장 좋은 것을 고르는 방법\n",
        "* 문제에서 '가장 큰 순서대로', '가장 작은 순서대로' 등의 기준을 제시하는 경우가 있음\n",
        "* 코딩 테스트에서는 대부분 '최적의 해'를 찾는 문제가 출제되기 때문에 그리디 알고리즘 적용에 신중해야 한다.\n",
        "* 대표적인 그리디 알고리즘 문제는, \n",
        "  - 거스름돈 문제\n",
        "    - 여러 종류의 동전을 무한히 가지고 있는 상황에서 거슬러 줘야 할 금액이 주어졌을 때, 거슬러 줘야 할 동전의 최소 개수를 찾는 문제\n",
        "  - 1이 될 때까지\n",
        "    - 어떠한 자연수 N이 1이 될 때까지, 1 빼기 또는 k로 나누기 연산을 최소 몇 번 수행하는지 계산하는 문제\n",
        "* 그리디 알고리즘에 속하는 알고리즘들\n",
        "  - 다익스트라 알고리즘 dijkstra algorithm \n",
        "    - 그래프 상에서 시작 노드에서 특정 노드까지 최단 경로를 찾는 방식\n",
        "  - 크루스칼 알고리즘 kruskal algorithm\n",
        "    - 최소신장트리(MST) 를 만들기 위한 방법으로, 네트워크의 모든 정점을 최소 비용으로 연결하는 최적 해답을 구하는 방식"
      ],
      "metadata": {
        "id": "s5WA646sqs_s"
      }
    },
    {
      "cell_type": "markdown",
      "source": [
        "<예제 3-1> 거스름돈\n",
        "* 당신은 음식점의 계산을 도와주는 점원이다.\n",
        "* 카운터에는 거스름돈으로 사용할 500원, 100원, 50원, 10원짜리 동전이 무한히 존재한다고 가정한다.\n",
        "* 손님에게 거슬러 줘야 할 돈이 N원일 때, 거슬러 줘야 할 동전의 최소 개수를 구하라.\n",
        "* 단, 거슬러 줘야 할 돈 N은 항상 10의 배수이다.\n",
        "* 입력 : 첫 번째 줄에 거슬러 줘야 할 돈 N 을 입력한다.\n",
        "* 출력 : 거슬러 줄 동전의 최소 개수를 출력한다.\n",
        "* 문제 [링크](https://velog.io/@ny_/Algorithm%EC%9D%B4%EC%BD%94%ED%85%8C-%EA%B7%B8%EB%A6%AC%EB%94%94-%EA%B1%B0%EC%8A%A4%EB%A6%84%EB%8F%88)"
      ],
      "metadata": {
        "id": "jOWaQdOzq0bk"
      }
    },
    {
      "cell_type": "markdown",
      "source": [
        "* 문제해결 아이디어\n",
        "  - 예를 들어, 거슬러줘야 할 돈이 1,260원 이라면,\n",
        "  - 1260 // 500 = 2 -> 500원 동전의 개수\n",
        "  - 1260 % 500 = 260 -> 500원을 쓰고 남은 돈\n",
        "  - 260 // 100 = 2 -> 100원 동전의 개수\n",
        "  - 260 % 100 = 60 -> 100원을 쓰고 남은 돈\n",
        "  - ... \n",
        "\n"
      ],
      "metadata": {
        "id": "HPXwFulss4Vd"
      }
    },
    {
      "cell_type": "code",
      "source": [
        "import time\n",
        "\n",
        "n = int(input())\n",
        "\n",
        "start_time = time.time()\n",
        "\n",
        "count = 0\n",
        "coin_list = [500, 100, 50, 10]\n",
        "\n",
        "for coin in coin_list:\n",
        "  count += n // coin\n",
        "  n = n % coin\n",
        "\n",
        "print(count)\n",
        "\n",
        "end_time = time.time()\n",
        "print(f\"{end_time-start_time:.5f} sec\")"
      ],
      "metadata": {
        "colab": {
          "base_uri": "https://localhost:8080/"
        },
        "id": "q4brcbYVMZf8",
        "outputId": "8cf16478-ee64-40e8-8ded-09f044831c48"
      },
      "execution_count": null,
      "outputs": [
        {
          "output_type": "stream",
          "name": "stdout",
          "text": [
            "1260\n",
            "6\n",
            "0.00032 sec\n"
          ]
        }
      ]
    },
    {
      "cell_type": "code",
      "source": [
        "n = int(input())\n",
        "count = 0\n",
        "\n",
        "coin_list = [500,100,50,10]\n",
        "\n",
        "for coin in coin_list:\n",
        "  count += n // coin # 잔돈을 동전으로 나눈 몫\n",
        "  n = n % coin # 잔돈을 빼고 난 나머지 돈\n",
        "\n",
        "print(count)"
      ],
      "metadata": {
        "colab": {
          "base_uri": "https://localhost:8080/"
        },
        "id": "rzx1FKqxrRPp",
        "outputId": "b3317b27-8872-4c40-b4ef-641917246473"
      },
      "execution_count": null,
      "outputs": [
        {
          "output_type": "stream",
          "name": "stdout",
          "text": [
            "1260\n",
            "6\n"
          ]
        }
      ]
    },
    {
      "cell_type": "markdown",
      "source": [
        "<실전문제 3-2> 큰 수의 법칙\n",
        "* 문제 [링크](https://velog.io/@uhan2/%EC%9D%B4%EA%B2%83%EC%9D%B4-%EC%BD%94%EB%94%A9-%ED%85%8C%EC%8A%A4%ED%8A%B8%EB%8B%A4.Part02.Chapter03-%ED%81%B0-%EC%88%98%EC%9D%98-%EB%B2%95%EC%B9%99-Java)\n",
        "* 문제\n",
        "  - 동빈이의 큰수의 법칙은 다양한 수로 이루어진 배열이 있을 때 주어진 수들을 M번 더하여 가장 큰수를 만드는 방법이다. \n",
        "  - 단, 배열의 특정한 인덱스에 해당하는 수가 연속해서 K번을 초과하여 더해질 수 없는 것이 이 법칙의 특징이다.\n",
        "  - 예를 들어 순서대로 2, 4, 5, 4, 6으로 이루어진 배열이 있을 때, M이 8이고 K가 3이라고 가정하자.\n",
        "  - 이 경우 특정한 인덱스의 수가 연속해서 세 번까지만 더해질 수 있으므로 큰 수의 법칙에 따른 결과는 6 + 6 + 6 + 5 + 6 + 6 + 6 + 5인 46이 된다. \n",
        "  - 단, 서로 다른 인덱스에 해당하는 수가 같은 경우에도 서로 다른 것으로 간주한다.\n",
        "  - 예를 들어 순서대로 3, 4, 3, 4, 3으로 이루어진 배열이 있을 때 M이 7이고 K가 2라고 가정하자. \n",
        "  - 이 경우 두 번째 원소에 해당하는 4와 네 번째 원소에 해당하는 4를 번갈아 두 번씩 더하는 것이 가능하다.\n",
        "  - 결과적으로 4 + 4 + 4 + 4 + 4 + 4 + 4 인 28이 도출된다.\n",
        "  - 배열의 크기 N, 숫자가 더해지는 횟수 M, 그리고 K가 주어질 때 동빈이의 큰 수의 법칙에 따른 결과를 출력하시오.\n",
        "* 입력 조건\n",
        "  - 첫째 줄에 N(2 <= N <= 1000), M(1 <= M <= 10000), K(1 <= K <= 10000) 의 자연수가 주어지며 각자연수는 공백으로 구분한다.\n",
        "  - 둘째 줄에 N개의 자연수가 주어진다. 각 자연수는 공백으로 구분한다. 단, 각각의 자연수는 1 이상 10000 이하의 수로 주어진다. 입력으로 주어지는 K는 항상 M보다 작거나 같다.\n",
        "* 출력 조건\n",
        "  - 첫째 줄에 동빈이의 큰수의 법칙에 따라 더해진 답을 출력한다.\n",
        "* 입력 예시\n",
        "<pre>\n",
        "5 8 3\n",
        "2 4 5 4 6\n",
        "</pre>\n",
        "* 출력 예시\n",
        "<pre>\n",
        "46\n",
        "</pre>\n"
      ],
      "metadata": {
        "id": "ULs1JL6HvlC8"
      }
    },
    {
      "cell_type": "markdown",
      "source": [
        "* 문제해결 아이디어\n",
        "  - 입력받는 수 중에 가장 큰 수와 두번째로 큰 수만 저장하기\n",
        "  - 가장 큰 수를 연속으로 k번 더하고, 두번째로 큰 수를 한 번 더하는 연산을 반복하기"
      ],
      "metadata": {
        "id": "AjhcgBIpvumM"
      }
    },
    {
      "cell_type": "code",
      "source": [
        "# 단순하게 푸는 답안 예시\n",
        "import time\n",
        "\n",
        "n, m, k = map(int, input().split())\n",
        "# data = [0] * n\n",
        "data = list(map(int, input().split()))\n",
        "\n",
        "start_time = time.time()\n",
        "\n",
        "data.sort()\n",
        "first = data[n-1] # 가장 큰 수 \n",
        "second = data[n-2] # 두번째로 큰 수\n",
        "\n",
        "result = 0\n",
        "\n",
        "while True:\n",
        "  for i in range(k):\n",
        "    if m == 0:\n",
        "      break\n",
        "    result += first\n",
        "    m -= 1\n",
        "  if m == 0:\n",
        "    break\n",
        "  result += second\n",
        "  m -= 1\n",
        "\n",
        "print(result)\n",
        "\n",
        "end_time = time.time()\n",
        "print(f\"{end_time - start_time:.5f} sec\")"
      ],
      "metadata": {
        "colab": {
          "base_uri": "https://localhost:8080/"
        },
        "id": "iJ-lmrDUuzDi",
        "outputId": "b81e2e65-ad35-4dea-9d74-95c00bc47194"
      },
      "execution_count": null,
      "outputs": [
        {
          "output_type": "stream",
          "name": "stdout",
          "text": [
            "5 8 3\n",
            "2 4 5 4 6\n",
            "46\n",
            "0.00259 sec\n"
          ]
        }
      ]
    },
    {
      "cell_type": "code",
      "source": [
        "# 반복되는 수열을 파악하여 처리하는 답안 예시\n",
        "import time\n",
        "\n",
        "# 입력 받기\n",
        "n, m, k = map(int, input().split())\n",
        "data = list(map(int, input().split()))\n",
        "\n",
        "# 시작 시간 측정\n",
        "start_time = time.time()\n",
        "\n",
        "# 문제 해결하기\n",
        "data.sort()\n",
        "first = data[n-1]\n",
        "second = data[n-2]\n",
        "\n",
        "count = int(m / (k+1)) * k\n",
        "count += m % (k+1)\n",
        "\n",
        "result = 0\n",
        "result += (count) * first\n",
        "result += (m - count) * second\n",
        "\n",
        "print(result)\n",
        "\n",
        "\n",
        "# 종료 시간 측정 및 수행 시간 출력\n",
        "end_time = time.time()\n",
        "print(f\"{end_time - start_time:.5f} sec\")"
      ],
      "metadata": {
        "id": "b39QBTvsgFY5"
      },
      "execution_count": null,
      "outputs": []
    },
    {
      "cell_type": "code",
      "source": [
        "# 내코드\n",
        "import time\n",
        "start_time = time.time()\n",
        "n,m,k=map(int,input().split())\n",
        "a=list(map(int,input().split()))\n",
        "\n",
        "result=0\n",
        "a.sort()\n",
        "a_max=a[n-1]\n",
        "a_max2=a[n-2]\n",
        "\n",
        "for i in range(m):\n",
        "  if m>=k:\n",
        "    result+=a_max*k\n",
        "    m=m-k\n",
        "    result+=a_max2\n",
        "    m=m-1\n",
        "  else:\n",
        "    result+=a_max*m\n",
        "print(result)\n",
        "\n",
        "end_time = time.time()\n",
        "print(f\"{end_time - start_time:.5f} sec\")"
      ],
      "metadata": {
        "colab": {
          "base_uri": "https://localhost:8080/"
        },
        "id": "akDJokEkgad5",
        "outputId": "724c4d89-9a32-4bb2-fda3-473217337ff2"
      },
      "execution_count": null,
      "outputs": [
        {
          "output_type": "stream",
          "name": "stdout",
          "text": [
            "5 8 3\n",
            "2 4 5 4 6\n",
            "46\n",
            "7.71559 sec\n"
          ]
        }
      ]
    },
    {
      "cell_type": "markdown",
      "source": [
        "<실전문제 3-3> 숫자 카드 게임\n",
        "* 문제 [링크](https://velog.io/@yellowsummer/Algorithm%EC%9D%B4%EA%B2%83%EC%9D%B4-%EC%BD%94%EB%94%A9-%ED%85%8C%EC%8A%A4%ED%8A%B8%EB%8B%A4greedy%EC%88%AB%EC%9E%90-%EC%B9%B4%EB%93%9C-%EA%B2%8C%EC%9E%84)\n",
        "* 문제\n",
        "  - 숫자 카드 게임은 여러 개의 숫자 카드 중에서 가장 높은 숫자가 쓰인 카드 한 장을 뽑는 게임이다. 단, 게임의 룰을 지키며 카드를 뽑아야 하고 룰은 다음과 같다.\n",
        "    1. 숫자가 쓰인 카드들이 N x M 형태로 놓여 있다. 이때 N은 행의 개수를 의미하며, M은 열의 개수를 의미한다.\n",
        "    2. 먼저 뽑고자 하는 카드가 포함되어 있는 행을 선택한다.\n",
        "    3. 그다음 선택된 행에 포함된 카드들 중 가장 숫자가 낮은 카드를 뽑아야 한다.\n",
        "    4. 따라서 처음에 카드를 골라낼 행을 선택할 때, 이후에 해당 행에서 가장 숫자가 낮은 카드를 뽑를 것을 고려하여 최종적으로 가장 높은 숫자의 카드를 뽑을 수 있도록 전략을 세워야 한다.\n",
        "  - 카드들이 N x M 형태로 놓여 있을 때, 게임의 룰에 맞게 카드를 뽑는 프로그램을 만드시오.\n",
        "* 입력 조건\n",
        "  - 첫째 줄에 숫자 카드들이 놓인 행의 개수 N과 열의 개수 M이 공백을 기준으로 하여 각각 자연수로 주어진다. (1 <= N, M <= 100)\n",
        "  - 둘째 줄부터 N개의 줄에 걸쳐 각 카드에 적힌 숫자가 주어진다. 각 숫자는 1 이상 10,000 이하의 자연수이다.\n",
        "* 출력 조건\n",
        "  - 첫째 줄에 게임의 룰에 맞게 선택한 카드에 적힌 숫자를 출력한다.\n",
        "* 입력 예시\n",
        "<pre>\n",
        "3 3\n",
        "3 1 2\n",
        "4 1 4\n",
        "2 2 2\n",
        "</pre>\n",
        "* 출력 예시\n",
        "<pre>\n",
        "2\n",
        "</pre>"
      ],
      "metadata": {
        "id": "Kq-fOZYvgggQ"
      }
    },
    {
      "cell_type": "markdown",
      "source": [
        "* 문제해결 아이디어\n",
        "  - 각 행마다 가장 작은 수를 찾은 뒤, 그 수 중에서 가장 큰 수를 찾기"
      ],
      "metadata": {
        "id": "YBn198iFoENa"
      }
    },
    {
      "cell_type": "code",
      "source": [
        "# 입력 받기\n",
        "n, m = map(int, input().split())\n",
        "\n",
        "# 문제 해결하기\n",
        "result = 0\n",
        "\n",
        "for i in range(n):\n",
        "  data = list(map(int, input().split()))\n",
        "  min_value = min(data)\n",
        "  result = max(result, min_value)\n",
        "\n",
        "print(result)"
      ],
      "metadata": {
        "id": "RF9OEcsGpks9"
      },
      "execution_count": null,
      "outputs": []
    },
    {
      "cell_type": "markdown",
      "source": [
        "<실전문제 3-4> 1이 될때까지\n",
        "* 문제 [링크](https://velog.io/@yellowsummer/Algorithm%EC%9D%B4%EA%B2%83%EC%9D%B4-%EC%BD%94%EB%94%A9-%ED%85%8C%EC%8A%A4%ED%8A%B8%EB%8B%A4greedy1%EC%9D%B4-%EB%90%A0-%EB%95%8C%EA%B9%8C%EC%A7%80)\n",
        "* 문제\n",
        "  - 어떠한 수 N이 1이 될 때까지 다음의 두 과정 중 하나를 반복적으로 선택하여 수행하려고 한다. 단, 두 번째 연산은 N이 K로 나누어떨어질 때만 선택할 수 있다.\n",
        "    1. N에서 1을 뺀다.\n",
        "    2. N을 K로 나눈다.\n",
        "  - N과 K가 주어질 때 N이 1이 될 때까지 1번 혹은 2번의 과정을 수행해야 하는 최소 횟수를 구하는 프로그램을 작성하시오.\n",
        "* 입력 조건\n",
        "  - 첫째 줄에 N(2 <= N <= 100,000), K(2 <= K <= 100,000)가 공백으로 구분되며 각각 자연수로 주어진다. 이때 입력으로 주어지는 N은 항상 K보다 크거나 같다.\n",
        "* 출력 조건\n",
        "  - 첫째 줄에 N이 1이 될 때까지 1번 혹은 2번의 과정을 수행해야 하는 횟수의 최솟값을 출력한다.\n",
        "* 입력 예시\n",
        "<pre>\n",
        "25 5\n",
        "</pre>\n",
        "* 출력 예시\n",
        "<pre>\n",
        "2\n",
        "</pre>"
      ],
      "metadata": {
        "id": "mai6XN_Spqch"
      }
    },
    {
      "cell_type": "markdown",
      "source": [
        "* 문제해결 아이디어\n",
        "  - n이 k의 배수가 될 때까지 1씩 빼기\n",
        "  - n을 k로 나누기\n",
        "  - 더이상 k로 나눌 수 없다면 1씩 빼기"
      ],
      "metadata": {
        "id": "EQKKnjJqqJ2s"
      }
    },
    {
      "cell_type": "code",
      "source": [
        "import time\n",
        "\n",
        "# 입력 받기\n",
        "n, k = map(int, input().split())\n",
        "\n",
        "# 시작 시간 측정\n",
        "start_time = time.time()\n",
        "\n",
        "# 문제 해결하기\n",
        "result = 0\n",
        "\n",
        "# n이 k보다 크다면, k로 계속 나누기\n",
        "while n >= k:\n",
        "  # n이 k로 나누어 떨어지지 않는다면 n에서 1씩 빼기\n",
        "  while n % k != 0:\n",
        "    n -= 1\n",
        "    result += 1\n",
        "  n //= k\n",
        "  result += 1\n",
        "\n",
        "# 마지막으로 남은 수에 대하여 1씩 빼기\n",
        "while n > 1:\n",
        "  n -= 1\n",
        "  result += 1\n",
        "\n",
        "print(result)\n",
        "\n",
        "# 종료 시간 측정 및 수행 시간 출력\n",
        "end_time = time.time()\n",
        "print(f\"{end_time - start_time:.5f} sec\")"
      ],
      "metadata": {
        "id": "uFerq_O6yCWc"
      },
      "execution_count": null,
      "outputs": []
    },
    {
      "cell_type": "markdown",
      "source": [
        "* 문제해결 아이디어\n",
        "  - n이 k의 배수가 되는 값을 찾아서, 그 값(target)에 도달할 때까지 1씩 빼기\n",
        "  - k의 배수가 되면, n을 k로 나누기\n",
        "  - n이 k보다 작아지면, 1씩 빼고 종료"
      ],
      "metadata": {
        "id": "NL38n0plzejL"
      }
    },
    {
      "cell_type": "code",
      "source": [
        "import time\n",
        "\n",
        "# 입력 받기\n",
        "n, k = map(int, input().split())\n",
        "\n",
        "# 시작 시간 측정\n",
        "start_time = time.time()\n",
        "\n",
        "# 문제 해결하기\n",
        "result = 0\n",
        "\n",
        "while True:\n",
        "  # n을 k로 나누어 떨어질때까지 1씩 빼기\n",
        "  target = (n // k) * k\n",
        "  result += (n - target)\n",
        "  n = target\n",
        "  # n이 k보다 작을 때 반복문 탈출\n",
        "  if n < k:\n",
        "    break\n",
        "  # k로 나누기\n",
        "  result += 1\n",
        "  n //= k\n",
        "\n",
        "# 마지막으로 남은 수에 대하여 1씩 빼기\n",
        "result += (n-1)\n",
        "print(result)\n",
        "\n",
        "\n",
        "# 종료 시간 측정 및 수행 시간 출력\n",
        "end_time = time.time()\n",
        "print(f\"{end_time - start_time:.5f} sec\")"
      ],
      "metadata": {
        "colab": {
          "base_uri": "https://localhost:8080/"
        },
        "id": "7qzR6HTN1DPV",
        "outputId": "15382556-1860-4e65-e8ca-3bbe85e49028"
      },
      "execution_count": null,
      "outputs": [
        {
          "output_type": "execute_result",
          "data": {
            "text/plain": [
              "1"
            ]
          },
          "metadata": {},
          "execution_count": 2
        }
      ]
    },
    {
      "cell_type": "markdown",
      "source": [
        "### 더 풀어볼 문제\n",
        "* 이것이 코딩 테스트다.\n",
        "  - 모험가 길드 [link](https://codingexplore.tistory.com/32)\n",
        "  - 곱하기 혹은 더하기 [link](https://codingexplore.tistory.com/33?category=886802)\n",
        "  - 문자열 뒤집기 [link](https://velog.io/@xxwb__/%EC%9D%B4%EA%B2%83%EC%9D%B4-%EC%BD%94%EB%94%A9-%ED%85%8C%EC%8A%A4%ED%8A%B8%EB%8B%A4-%EA%B7%B8%EB%A6%AC%EB%94%94-%EB%AC%B8%EC%9E%90%EC%97%B4-%EB%92%A4%EC%A7%91%EA%B8%B0)\n",
        "  - 만들 수 없는 금액 [link](https://codingexplore.tistory.com/34?category=886802)\n",
        "  - 볼링공 고르기 [link](https://codingexplore.tistory.com/35?category=886802)\n",
        "  - 무지의 먹방 라이브 [link](https://blex.me/@mildsalmon/chap-11-%EA%B7%B8%EB%A6%AC%EB%94%94-q5-%EB%AC%B4%EC%A7%80%EC%9D%98-%EB%A8%B9%EB%B0%A9-%EB%9D%BC%EC%9D%B4%EB%B8%8C)"
      ],
      "metadata": {
        "id": "FI2zqzLESK8i"
      }
    }
  ]
}