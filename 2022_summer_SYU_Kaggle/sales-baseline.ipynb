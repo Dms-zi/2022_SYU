{
 "cells": [
  {
   "cell_type": "markdown",
   "id": "dc849969",
   "metadata": {
    "papermill": {
     "duration": 0.022661,
     "end_time": "2022-08-26T07:12:35.698658",
     "exception": false,
     "start_time": "2022-08-26T07:12:35.675997",
     "status": "completed"
    },
    "tags": []
   },
   "source": [
    "# 9.3 향후 판매량 예측 경진대회 베이스라인 모델\n",
    "- [향후 판매량 예측 경진대회 링크](https://www.kaggle.com/c/competitive-data-science-predict-future-sales)\n",
    "- [베이스라인 코드 참고 링크](https://www.kaggle.com/dkomyagin/predict-future-sales-lightgbm-framework)"
   ]
  },
  {
   "cell_type": "code",
   "execution_count": 1,
   "id": "f8f2094d",
   "metadata": {
    "execution": {
     "iopub.execute_input": "2022-08-26T07:12:35.753982Z",
     "iopub.status.busy": "2022-08-26T07:12:35.753083Z",
     "iopub.status.idle": "2022-08-26T07:12:38.562505Z",
     "shell.execute_reply": "2022-08-26T07:12:38.561165Z"
    },
    "papermill": {
     "duration": 2.842954,
     "end_time": "2022-08-26T07:12:38.562791",
     "exception": false,
     "start_time": "2022-08-26T07:12:35.719837",
     "status": "completed"
    },
    "tags": []
   },
   "outputs": [],
   "source": [
    "import numpy as np\n",
    "import pandas as pd\n",
    "import warnings\n",
    "\n",
    "warnings.filterwarnings(action='ignore') # 경고 문구 생략\n",
    "\n",
    "# 데이터 경로\n",
    "data_path = '/kaggle/input/competitive-data-science-predict-future-sales/'\n",
    "\n",
    "sales_train = pd.read_csv(data_path + 'sales_train.csv')\n",
    "shops = pd.read_csv(data_path + 'shops.csv')\n",
    "items = pd.read_csv(data_path + 'items.csv')\n",
    "item_categories = pd.read_csv(data_path + 'item_categories.csv')\n",
    "test = pd.read_csv(data_path + 'test.csv')\n",
    "submission = pd.read_csv(data_path + 'sample_submission.csv')"
   ]
  },
  {
   "cell_type": "markdown",
   "id": "f3a9daf6",
   "metadata": {
    "papermill": {
     "duration": 0.020128,
     "end_time": "2022-08-26T07:12:38.605097",
     "exception": false,
     "start_time": "2022-08-26T07:12:38.584969",
     "status": "completed"
    },
    "tags": []
   },
   "source": [
    "## 9.3.1 피처 엔지니어링 I : 피처명 한글화"
   ]
  },
  {
   "cell_type": "code",
   "execution_count": 2,
   "id": "16b06849",
   "metadata": {
    "execution": {
     "iopub.execute_input": "2022-08-26T07:12:38.651915Z",
     "iopub.status.busy": "2022-08-26T07:12:38.651095Z",
     "iopub.status.idle": "2022-08-26T07:12:38.767172Z",
     "shell.execute_reply": "2022-08-26T07:12:38.767750Z"
    },
    "papermill": {
     "duration": 0.142645,
     "end_time": "2022-08-26T07:12:38.767962",
     "exception": false,
     "start_time": "2022-08-26T07:12:38.625317",
     "status": "completed"
    },
    "tags": []
   },
   "outputs": [
    {
     "data": {
      "text/html": [
       "<div>\n",
       "<style scoped>\n",
       "    .dataframe tbody tr th:only-of-type {\n",
       "        vertical-align: middle;\n",
       "    }\n",
       "\n",
       "    .dataframe tbody tr th {\n",
       "        vertical-align: top;\n",
       "    }\n",
       "\n",
       "    .dataframe thead th {\n",
       "        text-align: right;\n",
       "    }\n",
       "</style>\n",
       "<table border=\"1\" class=\"dataframe\">\n",
       "  <thead>\n",
       "    <tr style=\"text-align: right;\">\n",
       "      <th></th>\n",
       "      <th>날짜</th>\n",
       "      <th>월ID</th>\n",
       "      <th>상점ID</th>\n",
       "      <th>상품ID</th>\n",
       "      <th>판매가</th>\n",
       "      <th>판매량</th>\n",
       "    </tr>\n",
       "  </thead>\n",
       "  <tbody>\n",
       "    <tr>\n",
       "      <th>0</th>\n",
       "      <td>02.01.2013</td>\n",
       "      <td>0</td>\n",
       "      <td>59</td>\n",
       "      <td>22154</td>\n",
       "      <td>999.00</td>\n",
       "      <td>1.0</td>\n",
       "    </tr>\n",
       "    <tr>\n",
       "      <th>1</th>\n",
       "      <td>03.01.2013</td>\n",
       "      <td>0</td>\n",
       "      <td>25</td>\n",
       "      <td>2552</td>\n",
       "      <td>899.00</td>\n",
       "      <td>1.0</td>\n",
       "    </tr>\n",
       "    <tr>\n",
       "      <th>2</th>\n",
       "      <td>05.01.2013</td>\n",
       "      <td>0</td>\n",
       "      <td>25</td>\n",
       "      <td>2552</td>\n",
       "      <td>899.00</td>\n",
       "      <td>-1.0</td>\n",
       "    </tr>\n",
       "    <tr>\n",
       "      <th>3</th>\n",
       "      <td>06.01.2013</td>\n",
       "      <td>0</td>\n",
       "      <td>25</td>\n",
       "      <td>2554</td>\n",
       "      <td>1709.05</td>\n",
       "      <td>1.0</td>\n",
       "    </tr>\n",
       "    <tr>\n",
       "      <th>4</th>\n",
       "      <td>15.01.2013</td>\n",
       "      <td>0</td>\n",
       "      <td>25</td>\n",
       "      <td>2555</td>\n",
       "      <td>1099.00</td>\n",
       "      <td>1.0</td>\n",
       "    </tr>\n",
       "  </tbody>\n",
       "</table>\n",
       "</div>"
      ],
      "text/plain": [
       "           날짜  월ID  상점ID   상품ID      판매가  판매량\n",
       "0  02.01.2013    0    59  22154   999.00  1.0\n",
       "1  03.01.2013    0    25   2552   899.00  1.0\n",
       "2  05.01.2013    0    25   2552   899.00 -1.0\n",
       "3  06.01.2013    0    25   2554  1709.05  1.0\n",
       "4  15.01.2013    0    25   2555  1099.00  1.0"
      ]
     },
     "execution_count": 2,
     "metadata": {},
     "output_type": "execute_result"
    }
   ],
   "source": [
    "sales_train = sales_train.rename(columns={'date': '날짜', \n",
    "                                          'date_block_num': '월ID',\n",
    "                                          'shop_id': '상점ID',\n",
    "                                          'item_id': '상품ID',\n",
    "                                          'item_price': '판매가',\n",
    "                                          'item_cnt_day': '판매량'})\n",
    "\n",
    "sales_train.head()"
   ]
  },
  {
   "cell_type": "code",
   "execution_count": 3,
   "id": "f0860a42",
   "metadata": {
    "execution": {
     "iopub.execute_input": "2022-08-26T07:12:38.816614Z",
     "iopub.status.busy": "2022-08-26T07:12:38.815461Z",
     "iopub.status.idle": "2022-08-26T07:12:38.826244Z",
     "shell.execute_reply": "2022-08-26T07:12:38.826960Z"
    },
    "papermill": {
     "duration": 0.037631,
     "end_time": "2022-08-26T07:12:38.827285",
     "exception": false,
     "start_time": "2022-08-26T07:12:38.789654",
     "status": "completed"
    },
    "tags": []
   },
   "outputs": [
    {
     "data": {
      "text/html": [
       "<div>\n",
       "<style scoped>\n",
       "    .dataframe tbody tr th:only-of-type {\n",
       "        vertical-align: middle;\n",
       "    }\n",
       "\n",
       "    .dataframe tbody tr th {\n",
       "        vertical-align: top;\n",
       "    }\n",
       "\n",
       "    .dataframe thead th {\n",
       "        text-align: right;\n",
       "    }\n",
       "</style>\n",
       "<table border=\"1\" class=\"dataframe\">\n",
       "  <thead>\n",
       "    <tr style=\"text-align: right;\">\n",
       "      <th></th>\n",
       "      <th>상점명</th>\n",
       "      <th>상점ID</th>\n",
       "    </tr>\n",
       "  </thead>\n",
       "  <tbody>\n",
       "    <tr>\n",
       "      <th>0</th>\n",
       "      <td>!Якутск Орджоникидзе, 56 фран</td>\n",
       "      <td>0</td>\n",
       "    </tr>\n",
       "    <tr>\n",
       "      <th>1</th>\n",
       "      <td>!Якутск ТЦ \"Центральный\" фран</td>\n",
       "      <td>1</td>\n",
       "    </tr>\n",
       "    <tr>\n",
       "      <th>2</th>\n",
       "      <td>Адыгея ТЦ \"Мега\"</td>\n",
       "      <td>2</td>\n",
       "    </tr>\n",
       "    <tr>\n",
       "      <th>3</th>\n",
       "      <td>Балашиха ТРК \"Октябрь-Киномир\"</td>\n",
       "      <td>3</td>\n",
       "    </tr>\n",
       "    <tr>\n",
       "      <th>4</th>\n",
       "      <td>Волжский ТЦ \"Волга Молл\"</td>\n",
       "      <td>4</td>\n",
       "    </tr>\n",
       "  </tbody>\n",
       "</table>\n",
       "</div>"
      ],
      "text/plain": [
       "                              상점명  상점ID\n",
       "0   !Якутск Орджоникидзе, 56 фран     0\n",
       "1   !Якутск ТЦ \"Центральный\" фран     1\n",
       "2                Адыгея ТЦ \"Мега\"     2\n",
       "3  Балашиха ТРК \"Октябрь-Киномир\"     3\n",
       "4        Волжский ТЦ \"Волга Молл\"     4"
      ]
     },
     "execution_count": 3,
     "metadata": {},
     "output_type": "execute_result"
    }
   ],
   "source": [
    "shops = shops.rename(columns={'shop_name': '상점명',\n",
    "                              'shop_id': '상점ID'})\n",
    "\n",
    "shops.head()"
   ]
  },
  {
   "cell_type": "code",
   "execution_count": 4,
   "id": "75b83da0",
   "metadata": {
    "execution": {
     "iopub.execute_input": "2022-08-26T07:12:38.876913Z",
     "iopub.status.busy": "2022-08-26T07:12:38.875751Z",
     "iopub.status.idle": "2022-08-26T07:12:38.888549Z",
     "shell.execute_reply": "2022-08-26T07:12:38.887910Z"
    },
    "papermill": {
     "duration": 0.039576,
     "end_time": "2022-08-26T07:12:38.888726",
     "exception": false,
     "start_time": "2022-08-26T07:12:38.849150",
     "status": "completed"
    },
    "tags": []
   },
   "outputs": [
    {
     "data": {
      "text/html": [
       "<div>\n",
       "<style scoped>\n",
       "    .dataframe tbody tr th:only-of-type {\n",
       "        vertical-align: middle;\n",
       "    }\n",
       "\n",
       "    .dataframe tbody tr th {\n",
       "        vertical-align: top;\n",
       "    }\n",
       "\n",
       "    .dataframe thead th {\n",
       "        text-align: right;\n",
       "    }\n",
       "</style>\n",
       "<table border=\"1\" class=\"dataframe\">\n",
       "  <thead>\n",
       "    <tr style=\"text-align: right;\">\n",
       "      <th></th>\n",
       "      <th>상품명</th>\n",
       "      <th>상품ID</th>\n",
       "      <th>상품분류ID</th>\n",
       "    </tr>\n",
       "  </thead>\n",
       "  <tbody>\n",
       "    <tr>\n",
       "      <th>0</th>\n",
       "      <td>! ВО ВЛАСТИ НАВАЖДЕНИЯ (ПЛАСТ.)         D</td>\n",
       "      <td>0</td>\n",
       "      <td>40</td>\n",
       "    </tr>\n",
       "    <tr>\n",
       "      <th>1</th>\n",
       "      <td>!ABBYY FineReader 12 Professional Edition Full...</td>\n",
       "      <td>1</td>\n",
       "      <td>76</td>\n",
       "    </tr>\n",
       "    <tr>\n",
       "      <th>2</th>\n",
       "      <td>***В ЛУЧАХ СЛАВЫ   (UNV)                    D</td>\n",
       "      <td>2</td>\n",
       "      <td>40</td>\n",
       "    </tr>\n",
       "    <tr>\n",
       "      <th>3</th>\n",
       "      <td>***ГОЛУБАЯ ВОЛНА  (Univ)                      D</td>\n",
       "      <td>3</td>\n",
       "      <td>40</td>\n",
       "    </tr>\n",
       "    <tr>\n",
       "      <th>4</th>\n",
       "      <td>***КОРОБКА (СТЕКЛО)                       D</td>\n",
       "      <td>4</td>\n",
       "      <td>40</td>\n",
       "    </tr>\n",
       "  </tbody>\n",
       "</table>\n",
       "</div>"
      ],
      "text/plain": [
       "                                                 상품명  상품ID  상품분류ID\n",
       "0          ! ВО ВЛАСТИ НАВАЖДЕНИЯ (ПЛАСТ.)         D     0      40\n",
       "1  !ABBYY FineReader 12 Professional Edition Full...     1      76\n",
       "2      ***В ЛУЧАХ СЛАВЫ   (UNV)                    D     2      40\n",
       "3    ***ГОЛУБАЯ ВОЛНА  (Univ)                      D     3      40\n",
       "4        ***КОРОБКА (СТЕКЛО)                       D     4      40"
      ]
     },
     "execution_count": 4,
     "metadata": {},
     "output_type": "execute_result"
    }
   ],
   "source": [
    "items = items.rename(columns={'item_name': '상품명',\n",
    "                              'item_id': '상품ID',\n",
    "                              'item_category_id': '상품분류ID'})\n",
    "\n",
    "items.head()"
   ]
  },
  {
   "cell_type": "code",
   "execution_count": 5,
   "id": "e1cb8453",
   "metadata": {
    "execution": {
     "iopub.execute_input": "2022-08-26T07:12:38.945952Z",
     "iopub.status.busy": "2022-08-26T07:12:38.942662Z",
     "iopub.status.idle": "2022-08-26T07:12:38.949673Z",
     "shell.execute_reply": "2022-08-26T07:12:38.950185Z"
    },
    "papermill": {
     "duration": 0.039043,
     "end_time": "2022-08-26T07:12:38.950431",
     "exception": false,
     "start_time": "2022-08-26T07:12:38.911388",
     "status": "completed"
    },
    "tags": []
   },
   "outputs": [
    {
     "data": {
      "text/html": [
       "<div>\n",
       "<style scoped>\n",
       "    .dataframe tbody tr th:only-of-type {\n",
       "        vertical-align: middle;\n",
       "    }\n",
       "\n",
       "    .dataframe tbody tr th {\n",
       "        vertical-align: top;\n",
       "    }\n",
       "\n",
       "    .dataframe thead th {\n",
       "        text-align: right;\n",
       "    }\n",
       "</style>\n",
       "<table border=\"1\" class=\"dataframe\">\n",
       "  <thead>\n",
       "    <tr style=\"text-align: right;\">\n",
       "      <th></th>\n",
       "      <th>상품분류명</th>\n",
       "      <th>상품분류ID</th>\n",
       "    </tr>\n",
       "  </thead>\n",
       "  <tbody>\n",
       "    <tr>\n",
       "      <th>0</th>\n",
       "      <td>PC - Гарнитуры/Наушники</td>\n",
       "      <td>0</td>\n",
       "    </tr>\n",
       "    <tr>\n",
       "      <th>1</th>\n",
       "      <td>Аксессуары - PS2</td>\n",
       "      <td>1</td>\n",
       "    </tr>\n",
       "    <tr>\n",
       "      <th>2</th>\n",
       "      <td>Аксессуары - PS3</td>\n",
       "      <td>2</td>\n",
       "    </tr>\n",
       "    <tr>\n",
       "      <th>3</th>\n",
       "      <td>Аксессуары - PS4</td>\n",
       "      <td>3</td>\n",
       "    </tr>\n",
       "    <tr>\n",
       "      <th>4</th>\n",
       "      <td>Аксессуары - PSP</td>\n",
       "      <td>4</td>\n",
       "    </tr>\n",
       "  </tbody>\n",
       "</table>\n",
       "</div>"
      ],
      "text/plain": [
       "                     상품분류명  상품분류ID\n",
       "0  PC - Гарнитуры/Наушники       0\n",
       "1         Аксессуары - PS2       1\n",
       "2         Аксессуары - PS3       2\n",
       "3         Аксессуары - PS4       3\n",
       "4         Аксессуары - PSP       4"
      ]
     },
     "execution_count": 5,
     "metadata": {},
     "output_type": "execute_result"
    }
   ],
   "source": [
    "item_categories = item_categories.rename(columns=\n",
    "                                         {'item_category_name': '상품분류명',\n",
    "                                          'item_category_id': '상품분류ID'})\n",
    "\n",
    "item_categories.head()"
   ]
  },
  {
   "cell_type": "code",
   "execution_count": 6,
   "id": "6eda0420",
   "metadata": {
    "execution": {
     "iopub.execute_input": "2022-08-26T07:12:39.007382Z",
     "iopub.status.busy": "2022-08-26T07:12:39.006257Z",
     "iopub.status.idle": "2022-08-26T07:12:39.015245Z",
     "shell.execute_reply": "2022-08-26T07:12:39.016240Z"
    },
    "papermill": {
     "duration": 0.041974,
     "end_time": "2022-08-26T07:12:39.016462",
     "exception": false,
     "start_time": "2022-08-26T07:12:38.974488",
     "status": "completed"
    },
    "tags": []
   },
   "outputs": [
    {
     "data": {
      "text/html": [
       "<div>\n",
       "<style scoped>\n",
       "    .dataframe tbody tr th:only-of-type {\n",
       "        vertical-align: middle;\n",
       "    }\n",
       "\n",
       "    .dataframe tbody tr th {\n",
       "        vertical-align: top;\n",
       "    }\n",
       "\n",
       "    .dataframe thead th {\n",
       "        text-align: right;\n",
       "    }\n",
       "</style>\n",
       "<table border=\"1\" class=\"dataframe\">\n",
       "  <thead>\n",
       "    <tr style=\"text-align: right;\">\n",
       "      <th></th>\n",
       "      <th>ID</th>\n",
       "      <th>상점ID</th>\n",
       "      <th>상품ID</th>\n",
       "    </tr>\n",
       "  </thead>\n",
       "  <tbody>\n",
       "    <tr>\n",
       "      <th>0</th>\n",
       "      <td>0</td>\n",
       "      <td>5</td>\n",
       "      <td>5037</td>\n",
       "    </tr>\n",
       "    <tr>\n",
       "      <th>1</th>\n",
       "      <td>1</td>\n",
       "      <td>5</td>\n",
       "      <td>5320</td>\n",
       "    </tr>\n",
       "    <tr>\n",
       "      <th>2</th>\n",
       "      <td>2</td>\n",
       "      <td>5</td>\n",
       "      <td>5233</td>\n",
       "    </tr>\n",
       "    <tr>\n",
       "      <th>3</th>\n",
       "      <td>3</td>\n",
       "      <td>5</td>\n",
       "      <td>5232</td>\n",
       "    </tr>\n",
       "    <tr>\n",
       "      <th>4</th>\n",
       "      <td>4</td>\n",
       "      <td>5</td>\n",
       "      <td>5268</td>\n",
       "    </tr>\n",
       "  </tbody>\n",
       "</table>\n",
       "</div>"
      ],
      "text/plain": [
       "   ID  상점ID  상품ID\n",
       "0   0     5  5037\n",
       "1   1     5  5320\n",
       "2   2     5  5233\n",
       "3   3     5  5232\n",
       "4   4     5  5268"
      ]
     },
     "execution_count": 6,
     "metadata": {},
     "output_type": "execute_result"
    }
   ],
   "source": [
    "test = test.rename(columns={'shop_id': '상점ID',\n",
    "                            'item_id': '상품ID'})\n",
    "\n",
    "test.head()"
   ]
  },
  {
   "cell_type": "markdown",
   "id": "14e8f171",
   "metadata": {
    "papermill": {
     "duration": 0.023195,
     "end_time": "2022-08-26T07:12:39.064185",
     "exception": false,
     "start_time": "2022-08-26T07:12:39.040990",
     "status": "completed"
    },
    "tags": []
   },
   "source": [
    "## 9.3.2 피처 엔지니어링 II : 데이터 다운캐스팅"
   ]
  },
  {
   "cell_type": "code",
   "execution_count": 7,
   "id": "d64f6d9c",
   "metadata": {
    "execution": {
     "iopub.execute_input": "2022-08-26T07:12:39.116656Z",
     "iopub.status.busy": "2022-08-26T07:12:39.115758Z",
     "iopub.status.idle": "2022-08-26T07:12:39.126526Z",
     "shell.execute_reply": "2022-08-26T07:12:39.125869Z"
    },
    "papermill": {
     "duration": 0.03856,
     "end_time": "2022-08-26T07:12:39.126724",
     "exception": false,
     "start_time": "2022-08-26T07:12:39.088164",
     "status": "completed"
    },
    "tags": []
   },
   "outputs": [],
   "source": [
    "def downcast(df, verbose=True):\n",
    "    start_mem = df.memory_usage().sum() / 1024**2\n",
    "    for col in df.columns:\n",
    "        dtype_name = df[col].dtype.name\n",
    "        if dtype_name == 'object':\n",
    "            pass\n",
    "        elif dtype_name == 'bool':\n",
    "            df[col] = df[col].astype('int8')\n",
    "        elif dtype_name.startswith('int') or (df[col].round() == df[col]).all():\n",
    "            df[col] = pd.to_numeric(df[col], downcast='integer')\n",
    "        else:\n",
    "            df[col] = pd.to_numeric(df[col], downcast='float')\n",
    "    end_mem = df.memory_usage().sum() / 1024**2\n",
    "    if verbose:\n",
    "        print('{:.1f}% 압축됨'.format(100 * (start_mem - end_mem) / start_mem))\n",
    "    \n",
    "    return df"
   ]
  },
  {
   "cell_type": "code",
   "execution_count": 8,
   "id": "5a767bfe",
   "metadata": {
    "execution": {
     "iopub.execute_input": "2022-08-26T07:12:39.186117Z",
     "iopub.status.busy": "2022-08-26T07:12:39.185025Z",
     "iopub.status.idle": "2022-08-26T07:12:39.597975Z",
     "shell.execute_reply": "2022-08-26T07:12:39.599761Z"
    },
    "papermill": {
     "duration": 0.449221,
     "end_time": "2022-08-26T07:12:39.600314",
     "exception": false,
     "start_time": "2022-08-26T07:12:39.151093",
     "status": "completed"
    },
    "tags": []
   },
   "outputs": [
    {
     "name": "stdout",
     "output_type": "stream",
     "text": [
      "62.5% 압축됨\n",
      "38.6% 압축됨\n",
      "54.2% 압축됨\n",
      "39.9% 압축됨\n",
      "70.8% 압축됨\n"
     ]
    }
   ],
   "source": [
    "all_df = [sales_train, shops, items, item_categories, test]\n",
    "for df in all_df:\n",
    "    df = downcast(df)"
   ]
  },
  {
   "cell_type": "markdown",
   "id": "bda96329",
   "metadata": {
    "papermill": {
     "duration": 0.024995,
     "end_time": "2022-08-26T07:12:39.652268",
     "exception": false,
     "start_time": "2022-08-26T07:12:39.627273",
     "status": "completed"
    },
    "tags": []
   },
   "source": [
    "## 9.3.3 피처 엔지니어링 III : 데이터 조합 생성"
   ]
  },
  {
   "cell_type": "code",
   "execution_count": 9,
   "id": "f474e355",
   "metadata": {
    "execution": {
     "iopub.execute_input": "2022-08-26T07:12:39.705336Z",
     "iopub.status.busy": "2022-08-26T07:12:39.704475Z",
     "iopub.status.idle": "2022-08-26T07:12:53.096442Z",
     "shell.execute_reply": "2022-08-26T07:12:53.095035Z"
    },
    "papermill": {
     "duration": 13.419963,
     "end_time": "2022-08-26T07:12:53.096636",
     "exception": false,
     "start_time": "2022-08-26T07:12:39.676673",
     "status": "completed"
    },
    "tags": []
   },
   "outputs": [
    {
     "data": {
      "text/html": [
       "<div>\n",
       "<style scoped>\n",
       "    .dataframe tbody tr th:only-of-type {\n",
       "        vertical-align: middle;\n",
       "    }\n",
       "\n",
       "    .dataframe tbody tr th {\n",
       "        vertical-align: top;\n",
       "    }\n",
       "\n",
       "    .dataframe thead th {\n",
       "        text-align: right;\n",
       "    }\n",
       "</style>\n",
       "<table border=\"1\" class=\"dataframe\">\n",
       "  <thead>\n",
       "    <tr style=\"text-align: right;\">\n",
       "      <th></th>\n",
       "      <th>월ID</th>\n",
       "      <th>상점ID</th>\n",
       "      <th>상품ID</th>\n",
       "    </tr>\n",
       "  </thead>\n",
       "  <tbody>\n",
       "    <tr>\n",
       "      <th>0</th>\n",
       "      <td>0</td>\n",
       "      <td>59</td>\n",
       "      <td>22154</td>\n",
       "    </tr>\n",
       "    <tr>\n",
       "      <th>1</th>\n",
       "      <td>0</td>\n",
       "      <td>59</td>\n",
       "      <td>2552</td>\n",
       "    </tr>\n",
       "    <tr>\n",
       "      <th>2</th>\n",
       "      <td>0</td>\n",
       "      <td>59</td>\n",
       "      <td>2554</td>\n",
       "    </tr>\n",
       "    <tr>\n",
       "      <th>3</th>\n",
       "      <td>0</td>\n",
       "      <td>59</td>\n",
       "      <td>2555</td>\n",
       "    </tr>\n",
       "    <tr>\n",
       "      <th>4</th>\n",
       "      <td>0</td>\n",
       "      <td>59</td>\n",
       "      <td>2564</td>\n",
       "    </tr>\n",
       "    <tr>\n",
       "      <th>...</th>\n",
       "      <td>...</td>\n",
       "      <td>...</td>\n",
       "      <td>...</td>\n",
       "    </tr>\n",
       "    <tr>\n",
       "      <th>10913845</th>\n",
       "      <td>33</td>\n",
       "      <td>21</td>\n",
       "      <td>7635</td>\n",
       "    </tr>\n",
       "    <tr>\n",
       "      <th>10913846</th>\n",
       "      <td>33</td>\n",
       "      <td>21</td>\n",
       "      <td>7638</td>\n",
       "    </tr>\n",
       "    <tr>\n",
       "      <th>10913847</th>\n",
       "      <td>33</td>\n",
       "      <td>21</td>\n",
       "      <td>7640</td>\n",
       "    </tr>\n",
       "    <tr>\n",
       "      <th>10913848</th>\n",
       "      <td>33</td>\n",
       "      <td>21</td>\n",
       "      <td>7632</td>\n",
       "    </tr>\n",
       "    <tr>\n",
       "      <th>10913849</th>\n",
       "      <td>33</td>\n",
       "      <td>21</td>\n",
       "      <td>7440</td>\n",
       "    </tr>\n",
       "  </tbody>\n",
       "</table>\n",
       "<p>10913850 rows × 3 columns</p>\n",
       "</div>"
      ],
      "text/plain": [
       "          월ID  상점ID   상품ID\n",
       "0           0    59  22154\n",
       "1           0    59   2552\n",
       "2           0    59   2554\n",
       "3           0    59   2555\n",
       "4           0    59   2564\n",
       "...       ...   ...    ...\n",
       "10913845   33    21   7635\n",
       "10913846   33    21   7638\n",
       "10913847   33    21   7640\n",
       "10913848   33    21   7632\n",
       "10913849   33    21   7440\n",
       "\n",
       "[10913850 rows x 3 columns]"
      ]
     },
     "execution_count": 9,
     "metadata": {},
     "output_type": "execute_result"
    }
   ],
   "source": [
    "from itertools import product\n",
    "\n",
    "train = []\n",
    "# 월ID, 상점ID, 상품ID 조합 생성 \n",
    "for i in sales_train['월ID'].unique():\n",
    "    all_shop = sales_train.loc[sales_train['월ID']==i, '상점ID'].unique()\n",
    "    all_item = sales_train.loc[sales_train['월ID']==i, '상품ID'].unique()\n",
    "    train.append(np.array(list(product([i], all_shop, all_item))))\n",
    "\n",
    "idx_features = ['월ID', '상점ID', '상품ID'] # 기준 피처\n",
    "# 리스트 타입인 train을 DataFrame 타입으로 변환 \n",
    "train = pd.DataFrame(np.vstack(train), columns=idx_features)\n",
    "\n",
    "train"
   ]
  },
  {
   "cell_type": "markdown",
   "id": "fa0be66c",
   "metadata": {
    "papermill": {
     "duration": 0.025266,
     "end_time": "2022-08-26T07:12:53.147599",
     "exception": false,
     "start_time": "2022-08-26T07:12:53.122333",
     "status": "completed"
    },
    "tags": []
   },
   "source": [
    "## 9.3.4 피처 엔지니어링 IV : 타깃값(월간 판매량) 추가"
   ]
  },
  {
   "cell_type": "code",
   "execution_count": 10,
   "id": "1c4baf5a",
   "metadata": {
    "execution": {
     "iopub.execute_input": "2022-08-26T07:12:53.204902Z",
     "iopub.status.busy": "2022-08-26T07:12:53.201436Z",
     "iopub.status.idle": "2022-08-26T07:12:54.161714Z",
     "shell.execute_reply": "2022-08-26T07:12:54.160887Z"
    },
    "papermill": {
     "duration": 0.988423,
     "end_time": "2022-08-26T07:12:54.161912",
     "exception": false,
     "start_time": "2022-08-26T07:12:53.173489",
     "status": "completed"
    },
    "tags": []
   },
   "outputs": [
    {
     "data": {
      "text/html": [
       "<div>\n",
       "<style scoped>\n",
       "    .dataframe tbody tr th:only-of-type {\n",
       "        vertical-align: middle;\n",
       "    }\n",
       "\n",
       "    .dataframe tbody tr th {\n",
       "        vertical-align: top;\n",
       "    }\n",
       "\n",
       "    .dataframe thead th {\n",
       "        text-align: right;\n",
       "    }\n",
       "</style>\n",
       "<table border=\"1\" class=\"dataframe\">\n",
       "  <thead>\n",
       "    <tr style=\"text-align: right;\">\n",
       "      <th></th>\n",
       "      <th>월ID</th>\n",
       "      <th>상점ID</th>\n",
       "      <th>상품ID</th>\n",
       "      <th>월간 판매량</th>\n",
       "    </tr>\n",
       "  </thead>\n",
       "  <tbody>\n",
       "    <tr>\n",
       "      <th>0</th>\n",
       "      <td>0</td>\n",
       "      <td>0</td>\n",
       "      <td>32</td>\n",
       "      <td>6</td>\n",
       "    </tr>\n",
       "    <tr>\n",
       "      <th>1</th>\n",
       "      <td>0</td>\n",
       "      <td>0</td>\n",
       "      <td>33</td>\n",
       "      <td>3</td>\n",
       "    </tr>\n",
       "    <tr>\n",
       "      <th>2</th>\n",
       "      <td>0</td>\n",
       "      <td>0</td>\n",
       "      <td>35</td>\n",
       "      <td>1</td>\n",
       "    </tr>\n",
       "    <tr>\n",
       "      <th>3</th>\n",
       "      <td>0</td>\n",
       "      <td>0</td>\n",
       "      <td>43</td>\n",
       "      <td>1</td>\n",
       "    </tr>\n",
       "    <tr>\n",
       "      <th>4</th>\n",
       "      <td>0</td>\n",
       "      <td>0</td>\n",
       "      <td>51</td>\n",
       "      <td>2</td>\n",
       "    </tr>\n",
       "    <tr>\n",
       "      <th>...</th>\n",
       "      <td>...</td>\n",
       "      <td>...</td>\n",
       "      <td>...</td>\n",
       "      <td>...</td>\n",
       "    </tr>\n",
       "    <tr>\n",
       "      <th>1609119</th>\n",
       "      <td>33</td>\n",
       "      <td>59</td>\n",
       "      <td>22087</td>\n",
       "      <td>6</td>\n",
       "    </tr>\n",
       "    <tr>\n",
       "      <th>1609120</th>\n",
       "      <td>33</td>\n",
       "      <td>59</td>\n",
       "      <td>22088</td>\n",
       "      <td>2</td>\n",
       "    </tr>\n",
       "    <tr>\n",
       "      <th>1609121</th>\n",
       "      <td>33</td>\n",
       "      <td>59</td>\n",
       "      <td>22091</td>\n",
       "      <td>1</td>\n",
       "    </tr>\n",
       "    <tr>\n",
       "      <th>1609122</th>\n",
       "      <td>33</td>\n",
       "      <td>59</td>\n",
       "      <td>22100</td>\n",
       "      <td>1</td>\n",
       "    </tr>\n",
       "    <tr>\n",
       "      <th>1609123</th>\n",
       "      <td>33</td>\n",
       "      <td>59</td>\n",
       "      <td>22102</td>\n",
       "      <td>1</td>\n",
       "    </tr>\n",
       "  </tbody>\n",
       "</table>\n",
       "<p>1609124 rows × 4 columns</p>\n",
       "</div>"
      ],
      "text/plain": [
       "         월ID  상점ID   상품ID  월간 판매량\n",
       "0          0     0     32       6\n",
       "1          0     0     33       3\n",
       "2          0     0     35       1\n",
       "3          0     0     43       1\n",
       "4          0     0     51       2\n",
       "...      ...   ...    ...     ...\n",
       "1609119   33    59  22087       6\n",
       "1609120   33    59  22088       2\n",
       "1609121   33    59  22091       1\n",
       "1609122   33    59  22100       1\n",
       "1609123   33    59  22102       1\n",
       "\n",
       "[1609124 rows x 4 columns]"
      ]
     },
     "execution_count": 10,
     "metadata": {},
     "output_type": "execute_result"
    }
   ],
   "source": [
    "# idx_features를 기준으로 그룹화해 판매량 합 구하기 \n",
    "group = sales_train.groupby(idx_features).agg({'판매량': 'sum'})\n",
    "# 인덱스 재설정\n",
    "group = group.reset_index()\n",
    "# 피처명을 '판매량'에서 '월간 판매량'으로 변경\n",
    "group = group.rename(columns={'판매량': '월간 판매량'})\n",
    "\n",
    "group"
   ]
  },
  {
   "cell_type": "code",
   "execution_count": 11,
   "id": "be7e099f",
   "metadata": {
    "execution": {
     "iopub.execute_input": "2022-08-26T07:12:54.217547Z",
     "iopub.status.busy": "2022-08-26T07:12:54.216676Z",
     "iopub.status.idle": "2022-08-26T07:12:59.300221Z",
     "shell.execute_reply": "2022-08-26T07:12:59.299504Z"
    },
    "papermill": {
     "duration": 5.112813,
     "end_time": "2022-08-26T07:12:59.300409",
     "exception": false,
     "start_time": "2022-08-26T07:12:54.187596",
     "status": "completed"
    },
    "tags": []
   },
   "outputs": [
    {
     "data": {
      "text/html": [
       "<div>\n",
       "<style scoped>\n",
       "    .dataframe tbody tr th:only-of-type {\n",
       "        vertical-align: middle;\n",
       "    }\n",
       "\n",
       "    .dataframe tbody tr th {\n",
       "        vertical-align: top;\n",
       "    }\n",
       "\n",
       "    .dataframe thead th {\n",
       "        text-align: right;\n",
       "    }\n",
       "</style>\n",
       "<table border=\"1\" class=\"dataframe\">\n",
       "  <thead>\n",
       "    <tr style=\"text-align: right;\">\n",
       "      <th></th>\n",
       "      <th>월ID</th>\n",
       "      <th>상점ID</th>\n",
       "      <th>상품ID</th>\n",
       "      <th>월간 판매량</th>\n",
       "    </tr>\n",
       "  </thead>\n",
       "  <tbody>\n",
       "    <tr>\n",
       "      <th>0</th>\n",
       "      <td>0</td>\n",
       "      <td>59</td>\n",
       "      <td>22154</td>\n",
       "      <td>1.0</td>\n",
       "    </tr>\n",
       "    <tr>\n",
       "      <th>1</th>\n",
       "      <td>0</td>\n",
       "      <td>59</td>\n",
       "      <td>2552</td>\n",
       "      <td>NaN</td>\n",
       "    </tr>\n",
       "    <tr>\n",
       "      <th>2</th>\n",
       "      <td>0</td>\n",
       "      <td>59</td>\n",
       "      <td>2554</td>\n",
       "      <td>NaN</td>\n",
       "    </tr>\n",
       "    <tr>\n",
       "      <th>3</th>\n",
       "      <td>0</td>\n",
       "      <td>59</td>\n",
       "      <td>2555</td>\n",
       "      <td>NaN</td>\n",
       "    </tr>\n",
       "    <tr>\n",
       "      <th>4</th>\n",
       "      <td>0</td>\n",
       "      <td>59</td>\n",
       "      <td>2564</td>\n",
       "      <td>NaN</td>\n",
       "    </tr>\n",
       "    <tr>\n",
       "      <th>...</th>\n",
       "      <td>...</td>\n",
       "      <td>...</td>\n",
       "      <td>...</td>\n",
       "      <td>...</td>\n",
       "    </tr>\n",
       "    <tr>\n",
       "      <th>10913845</th>\n",
       "      <td>33</td>\n",
       "      <td>21</td>\n",
       "      <td>7635</td>\n",
       "      <td>NaN</td>\n",
       "    </tr>\n",
       "    <tr>\n",
       "      <th>10913846</th>\n",
       "      <td>33</td>\n",
       "      <td>21</td>\n",
       "      <td>7638</td>\n",
       "      <td>NaN</td>\n",
       "    </tr>\n",
       "    <tr>\n",
       "      <th>10913847</th>\n",
       "      <td>33</td>\n",
       "      <td>21</td>\n",
       "      <td>7640</td>\n",
       "      <td>NaN</td>\n",
       "    </tr>\n",
       "    <tr>\n",
       "      <th>10913848</th>\n",
       "      <td>33</td>\n",
       "      <td>21</td>\n",
       "      <td>7632</td>\n",
       "      <td>NaN</td>\n",
       "    </tr>\n",
       "    <tr>\n",
       "      <th>10913849</th>\n",
       "      <td>33</td>\n",
       "      <td>21</td>\n",
       "      <td>7440</td>\n",
       "      <td>NaN</td>\n",
       "    </tr>\n",
       "  </tbody>\n",
       "</table>\n",
       "<p>10913850 rows × 4 columns</p>\n",
       "</div>"
      ],
      "text/plain": [
       "          월ID  상점ID   상품ID  월간 판매량\n",
       "0           0    59  22154     1.0\n",
       "1           0    59   2552     NaN\n",
       "2           0    59   2554     NaN\n",
       "3           0    59   2555     NaN\n",
       "4           0    59   2564     NaN\n",
       "...       ...   ...    ...     ...\n",
       "10913845   33    21   7635     NaN\n",
       "10913846   33    21   7638     NaN\n",
       "10913847   33    21   7640     NaN\n",
       "10913848   33    21   7632     NaN\n",
       "10913849   33    21   7440     NaN\n",
       "\n",
       "[10913850 rows x 4 columns]"
      ]
     },
     "execution_count": 11,
     "metadata": {},
     "output_type": "execute_result"
    }
   ],
   "source": [
    "# train과 group 병합하기\n",
    "train = train.merge(group, on=idx_features, how='left')\n",
    "\n",
    "train"
   ]
  },
  {
   "cell_type": "code",
   "execution_count": 12,
   "id": "11892746",
   "metadata": {
    "execution": {
     "iopub.execute_input": "2022-08-26T07:12:59.459654Z",
     "iopub.status.busy": "2022-08-26T07:12:59.457902Z",
     "iopub.status.idle": "2022-08-26T07:12:59.460522Z",
     "shell.execute_reply": "2022-08-26T07:12:59.461253Z"
    },
    "papermill": {
     "duration": 0.135451,
     "end_time": "2022-08-26T07:12:59.461501",
     "exception": false,
     "start_time": "2022-08-26T07:12:59.326050",
     "status": "completed"
    },
    "tags": []
   },
   "outputs": [],
   "source": [
    "import gc # 가비지 컬렉터 불러오기\n",
    "\n",
    "del group # 더는 사용하지 않는 변수 지정\n",
    "gc.collect(); # 가비지 컬렉션 수행"
   ]
  },
  {
   "cell_type": "markdown",
   "id": "b0f6f306",
   "metadata": {
    "papermill": {
     "duration": 0.028361,
     "end_time": "2022-08-26T07:12:59.518817",
     "exception": false,
     "start_time": "2022-08-26T07:12:59.490456",
     "status": "completed"
    },
    "tags": []
   },
   "source": [
    "## 9.3.5 피처 엔지니어링 V : 테스트 데이터 이어붙이기"
   ]
  },
  {
   "cell_type": "code",
   "execution_count": 13,
   "id": "b65af482",
   "metadata": {
    "execution": {
     "iopub.execute_input": "2022-08-26T07:12:59.574250Z",
     "iopub.status.busy": "2022-08-26T07:12:59.573471Z",
     "iopub.status.idle": "2022-08-26T07:12:59.578516Z",
     "shell.execute_reply": "2022-08-26T07:12:59.579272Z"
    },
    "papermill": {
     "duration": 0.035052,
     "end_time": "2022-08-26T07:12:59.579559",
     "exception": false,
     "start_time": "2022-08-26T07:12:59.544507",
     "status": "completed"
    },
    "tags": []
   },
   "outputs": [],
   "source": [
    "test['월ID'] = 34"
   ]
  },
  {
   "cell_type": "code",
   "execution_count": 14,
   "id": "e629e55b",
   "metadata": {
    "execution": {
     "iopub.execute_input": "2022-08-26T07:12:59.636871Z",
     "iopub.status.busy": "2022-08-26T07:12:59.636123Z",
     "iopub.status.idle": "2022-08-26T07:12:59.720457Z",
     "shell.execute_reply": "2022-08-26T07:12:59.721040Z"
    },
    "papermill": {
     "duration": 0.115026,
     "end_time": "2022-08-26T07:12:59.721295",
     "exception": false,
     "start_time": "2022-08-26T07:12:59.606269",
     "status": "completed"
    },
    "tags": []
   },
   "outputs": [],
   "source": [
    "# train과 test 이어붙이기\n",
    "all_data = pd.concat([train, test.drop('ID', axis=1)],\n",
    "                     ignore_index=True, # 기존 인덱스 무시(0부터 새로 시작)\n",
    "                     keys=idx_features) # 이어붙이는 기준이 되는 피처"
   ]
  },
  {
   "cell_type": "code",
   "execution_count": 15,
   "id": "ad3279b6",
   "metadata": {
    "execution": {
     "iopub.execute_input": "2022-08-26T07:12:59.779697Z",
     "iopub.status.busy": "2022-08-26T07:12:59.778257Z",
     "iopub.status.idle": "2022-08-26T07:12:59.963272Z",
     "shell.execute_reply": "2022-08-26T07:12:59.962599Z"
    },
    "papermill": {
     "duration": 0.21517,
     "end_time": "2022-08-26T07:12:59.963484",
     "exception": false,
     "start_time": "2022-08-26T07:12:59.748314",
     "status": "completed"
    },
    "tags": []
   },
   "outputs": [
    {
     "data": {
      "text/html": [
       "<div>\n",
       "<style scoped>\n",
       "    .dataframe tbody tr th:only-of-type {\n",
       "        vertical-align: middle;\n",
       "    }\n",
       "\n",
       "    .dataframe tbody tr th {\n",
       "        vertical-align: top;\n",
       "    }\n",
       "\n",
       "    .dataframe thead th {\n",
       "        text-align: right;\n",
       "    }\n",
       "</style>\n",
       "<table border=\"1\" class=\"dataframe\">\n",
       "  <thead>\n",
       "    <tr style=\"text-align: right;\">\n",
       "      <th></th>\n",
       "      <th>월ID</th>\n",
       "      <th>상점ID</th>\n",
       "      <th>상품ID</th>\n",
       "      <th>월간 판매량</th>\n",
       "    </tr>\n",
       "  </thead>\n",
       "  <tbody>\n",
       "    <tr>\n",
       "      <th>0</th>\n",
       "      <td>0</td>\n",
       "      <td>59</td>\n",
       "      <td>22154</td>\n",
       "      <td>1.0</td>\n",
       "    </tr>\n",
       "    <tr>\n",
       "      <th>1</th>\n",
       "      <td>0</td>\n",
       "      <td>59</td>\n",
       "      <td>2552</td>\n",
       "      <td>0.0</td>\n",
       "    </tr>\n",
       "    <tr>\n",
       "      <th>2</th>\n",
       "      <td>0</td>\n",
       "      <td>59</td>\n",
       "      <td>2554</td>\n",
       "      <td>0.0</td>\n",
       "    </tr>\n",
       "    <tr>\n",
       "      <th>3</th>\n",
       "      <td>0</td>\n",
       "      <td>59</td>\n",
       "      <td>2555</td>\n",
       "      <td>0.0</td>\n",
       "    </tr>\n",
       "    <tr>\n",
       "      <th>4</th>\n",
       "      <td>0</td>\n",
       "      <td>59</td>\n",
       "      <td>2564</td>\n",
       "      <td>0.0</td>\n",
       "    </tr>\n",
       "    <tr>\n",
       "      <th>...</th>\n",
       "      <td>...</td>\n",
       "      <td>...</td>\n",
       "      <td>...</td>\n",
       "      <td>...</td>\n",
       "    </tr>\n",
       "    <tr>\n",
       "      <th>11128045</th>\n",
       "      <td>34</td>\n",
       "      <td>45</td>\n",
       "      <td>18454</td>\n",
       "      <td>0.0</td>\n",
       "    </tr>\n",
       "    <tr>\n",
       "      <th>11128046</th>\n",
       "      <td>34</td>\n",
       "      <td>45</td>\n",
       "      <td>16188</td>\n",
       "      <td>0.0</td>\n",
       "    </tr>\n",
       "    <tr>\n",
       "      <th>11128047</th>\n",
       "      <td>34</td>\n",
       "      <td>45</td>\n",
       "      <td>15757</td>\n",
       "      <td>0.0</td>\n",
       "    </tr>\n",
       "    <tr>\n",
       "      <th>11128048</th>\n",
       "      <td>34</td>\n",
       "      <td>45</td>\n",
       "      <td>19648</td>\n",
       "      <td>0.0</td>\n",
       "    </tr>\n",
       "    <tr>\n",
       "      <th>11128049</th>\n",
       "      <td>34</td>\n",
       "      <td>45</td>\n",
       "      <td>969</td>\n",
       "      <td>0.0</td>\n",
       "    </tr>\n",
       "  </tbody>\n",
       "</table>\n",
       "<p>11128050 rows × 4 columns</p>\n",
       "</div>"
      ],
      "text/plain": [
       "          월ID  상점ID   상품ID  월간 판매량\n",
       "0           0    59  22154     1.0\n",
       "1           0    59   2552     0.0\n",
       "2           0    59   2554     0.0\n",
       "3           0    59   2555     0.0\n",
       "4           0    59   2564     0.0\n",
       "...       ...   ...    ...     ...\n",
       "11128045   34    45  18454     0.0\n",
       "11128046   34    45  16188     0.0\n",
       "11128047   34    45  15757     0.0\n",
       "11128048   34    45  19648     0.0\n",
       "11128049   34    45    969     0.0\n",
       "\n",
       "[11128050 rows x 4 columns]"
      ]
     },
     "execution_count": 15,
     "metadata": {},
     "output_type": "execute_result"
    }
   ],
   "source": [
    "# 결측값을 0으로 대체\n",
    "all_data = all_data.fillna(0)\n",
    "\n",
    "all_data"
   ]
  },
  {
   "cell_type": "markdown",
   "id": "0b726dd2",
   "metadata": {
    "papermill": {
     "duration": 0.027206,
     "end_time": "2022-08-26T07:13:00.018874",
     "exception": false,
     "start_time": "2022-08-26T07:12:59.991668",
     "status": "completed"
    },
    "tags": []
   },
   "source": [
    "## 9.3.6 피처 엔지니어링 VI : 나머지 데이터 병합(최종 데이터 생성)"
   ]
  },
  {
   "cell_type": "code",
   "execution_count": 16,
   "id": "844e6cdb",
   "metadata": {
    "execution": {
     "iopub.execute_input": "2022-08-26T07:13:00.082612Z",
     "iopub.status.busy": "2022-08-26T07:13:00.081670Z",
     "iopub.status.idle": "2022-08-26T07:13:08.335231Z",
     "shell.execute_reply": "2022-08-26T07:13:08.335848Z"
    },
    "papermill": {
     "duration": 8.289923,
     "end_time": "2022-08-26T07:13:08.336099",
     "exception": false,
     "start_time": "2022-08-26T07:13:00.046176",
     "status": "completed"
    },
    "tags": []
   },
   "outputs": [
    {
     "name": "stdout",
     "output_type": "stream",
     "text": [
      "26.4% 압축됨\n"
     ]
    }
   ],
   "source": [
    "# 나머지 데이터 병합\n",
    "all_data = all_data.merge(shops, on='상점ID', how='left')\n",
    "all_data = all_data.merge(items, on='상품ID', how='left')\n",
    "all_data = all_data.merge(item_categories, on='상품분류ID', how='left')\n",
    "\n",
    "# 데이터 다운캐스팅\n",
    "all_data = downcast(all_data)\n",
    "\n",
    "# 가비지 컬렉션\n",
    "del shops, items, item_categories\n",
    "gc.collect();"
   ]
  },
  {
   "cell_type": "code",
   "execution_count": 17,
   "id": "80e3de9a",
   "metadata": {
    "execution": {
     "iopub.execute_input": "2022-08-26T07:13:08.405637Z",
     "iopub.status.busy": "2022-08-26T07:13:08.396048Z",
     "iopub.status.idle": "2022-08-26T07:13:08.409449Z",
     "shell.execute_reply": "2022-08-26T07:13:08.409925Z"
    },
    "papermill": {
     "duration": 0.046587,
     "end_time": "2022-08-26T07:13:08.410171",
     "exception": false,
     "start_time": "2022-08-26T07:13:08.363584",
     "status": "completed"
    },
    "tags": []
   },
   "outputs": [
    {
     "data": {
      "text/html": [
       "<div>\n",
       "<style scoped>\n",
       "    .dataframe tbody tr th:only-of-type {\n",
       "        vertical-align: middle;\n",
       "    }\n",
       "\n",
       "    .dataframe tbody tr th {\n",
       "        vertical-align: top;\n",
       "    }\n",
       "\n",
       "    .dataframe thead th {\n",
       "        text-align: right;\n",
       "    }\n",
       "</style>\n",
       "<table border=\"1\" class=\"dataframe\">\n",
       "  <thead>\n",
       "    <tr style=\"text-align: right;\">\n",
       "      <th></th>\n",
       "      <th>월ID</th>\n",
       "      <th>상점ID</th>\n",
       "      <th>상품ID</th>\n",
       "      <th>월간 판매량</th>\n",
       "      <th>상점명</th>\n",
       "      <th>상품명</th>\n",
       "      <th>상품분류ID</th>\n",
       "      <th>상품분류명</th>\n",
       "    </tr>\n",
       "  </thead>\n",
       "  <tbody>\n",
       "    <tr>\n",
       "      <th>0</th>\n",
       "      <td>0</td>\n",
       "      <td>59</td>\n",
       "      <td>22154</td>\n",
       "      <td>1</td>\n",
       "      <td>Ярославль ТЦ \"Альтаир\"</td>\n",
       "      <td>ЯВЛЕНИЕ 2012 (BD)</td>\n",
       "      <td>37</td>\n",
       "      <td>Кино - Blu-Ray</td>\n",
       "    </tr>\n",
       "    <tr>\n",
       "      <th>1</th>\n",
       "      <td>0</td>\n",
       "      <td>59</td>\n",
       "      <td>2552</td>\n",
       "      <td>0</td>\n",
       "      <td>Ярославль ТЦ \"Альтаир\"</td>\n",
       "      <td>DEEP PURPLE  The House Of Blue Light  LP</td>\n",
       "      <td>58</td>\n",
       "      <td>Музыка - Винил</td>\n",
       "    </tr>\n",
       "    <tr>\n",
       "      <th>2</th>\n",
       "      <td>0</td>\n",
       "      <td>59</td>\n",
       "      <td>2554</td>\n",
       "      <td>0</td>\n",
       "      <td>Ярославль ТЦ \"Альтаир\"</td>\n",
       "      <td>DEEP PURPLE  Who Do You Think We Are  LP</td>\n",
       "      <td>58</td>\n",
       "      <td>Музыка - Винил</td>\n",
       "    </tr>\n",
       "    <tr>\n",
       "      <th>3</th>\n",
       "      <td>0</td>\n",
       "      <td>59</td>\n",
       "      <td>2555</td>\n",
       "      <td>0</td>\n",
       "      <td>Ярославль ТЦ \"Альтаир\"</td>\n",
       "      <td>DEEP PURPLE 30 Very Best Of 2CD (Фирм.)</td>\n",
       "      <td>56</td>\n",
       "      <td>Музыка - CD фирменного производства</td>\n",
       "    </tr>\n",
       "    <tr>\n",
       "      <th>4</th>\n",
       "      <td>0</td>\n",
       "      <td>59</td>\n",
       "      <td>2564</td>\n",
       "      <td>0</td>\n",
       "      <td>Ярославль ТЦ \"Альтаир\"</td>\n",
       "      <td>DEEP PURPLE Perihelion: Live In Concert DVD (К...</td>\n",
       "      <td>59</td>\n",
       "      <td>Музыка - Музыкальное видео</td>\n",
       "    </tr>\n",
       "  </tbody>\n",
       "</table>\n",
       "</div>"
      ],
      "text/plain": [
       "   월ID  상점ID   상품ID  월간 판매량                     상점명  \\\n",
       "0    0    59  22154       1  Ярославль ТЦ \"Альтаир\"   \n",
       "1    0    59   2552       0  Ярославль ТЦ \"Альтаир\"   \n",
       "2    0    59   2554       0  Ярославль ТЦ \"Альтаир\"   \n",
       "3    0    59   2555       0  Ярославль ТЦ \"Альтаир\"   \n",
       "4    0    59   2564       0  Ярославль ТЦ \"Альтаир\"   \n",
       "\n",
       "                                                 상품명  상품분류ID  \\\n",
       "0                                  ЯВЛЕНИЕ 2012 (BD)      37   \n",
       "1           DEEP PURPLE  The House Of Blue Light  LP      58   \n",
       "2           DEEP PURPLE  Who Do You Think We Are  LP      58   \n",
       "3            DEEP PURPLE 30 Very Best Of 2CD (Фирм.)      56   \n",
       "4  DEEP PURPLE Perihelion: Live In Concert DVD (К...      59   \n",
       "\n",
       "                                 상품분류명  \n",
       "0                       Кино - Blu-Ray  \n",
       "1                       Музыка - Винил  \n",
       "2                       Музыка - Винил  \n",
       "3  Музыка - CD фирменного производства  \n",
       "4           Музыка - Музыкальное видео  "
      ]
     },
     "execution_count": 17,
     "metadata": {},
     "output_type": "execute_result"
    }
   ],
   "source": [
    "all_data.head()"
   ]
  },
  {
   "cell_type": "code",
   "execution_count": 18,
   "id": "b08fa482",
   "metadata": {
    "execution": {
     "iopub.execute_input": "2022-08-26T07:13:08.474006Z",
     "iopub.status.busy": "2022-08-26T07:13:08.471228Z",
     "iopub.status.idle": "2022-08-26T07:13:09.945071Z",
     "shell.execute_reply": "2022-08-26T07:13:09.945641Z"
    },
    "papermill": {
     "duration": 1.507209,
     "end_time": "2022-08-26T07:13:09.945866",
     "exception": false,
     "start_time": "2022-08-26T07:13:08.438657",
     "status": "completed"
    },
    "tags": []
   },
   "outputs": [],
   "source": [
    "all_data = all_data.drop(['상점명', '상품명', '상품분류명'], axis=1)"
   ]
  },
  {
   "cell_type": "markdown",
   "id": "42118349",
   "metadata": {
    "papermill": {
     "duration": 0.027331,
     "end_time": "2022-08-26T07:13:10.000488",
     "exception": false,
     "start_time": "2022-08-26T07:13:09.973157",
     "status": "completed"
    },
    "tags": []
   },
   "source": [
    "## 9.3.7 피처 엔지니어링 VII : 마무리"
   ]
  },
  {
   "cell_type": "code",
   "execution_count": 19,
   "id": "6958e490",
   "metadata": {
    "execution": {
     "iopub.execute_input": "2022-08-26T07:13:10.060042Z",
     "iopub.status.busy": "2022-08-26T07:13:10.059016Z",
     "iopub.status.idle": "2022-08-26T07:13:10.870258Z",
     "shell.execute_reply": "2022-08-26T07:13:10.869569Z"
    },
    "papermill": {
     "duration": 0.842481,
     "end_time": "2022-08-26T07:13:10.870485",
     "exception": false,
     "start_time": "2022-08-26T07:13:10.028004",
     "status": "completed"
    },
    "tags": []
   },
   "outputs": [],
   "source": [
    "# 훈련 데이터 (피처)\n",
    "X_train = all_data[all_data['월ID'] < 33]\n",
    "X_train = X_train.drop(['월간 판매량'], axis=1)\n",
    "# 검증 데이터 (피처)\n",
    "X_valid = all_data[all_data['월ID'] == 33]\n",
    "X_valid = X_valid.drop(['월간 판매량'], axis=1)\n",
    "# 테스트 데이터 (피처)\n",
    "X_test = all_data[all_data['월ID'] == 34]\n",
    "X_test = X_test.drop(['월간 판매량'], axis=1)\n",
    "\n",
    "# 훈련 데이터 (타깃값)\n",
    "y_train = all_data[all_data['월ID'] < 33]['월간 판매량']\n",
    "y_train = y_train.clip(0, 20) # 타깃값을 0 ~ 20로 제한\n",
    "# 검증 데이터 (타깃값)\n",
    "y_valid = all_data[all_data['월ID'] == 33]['월간 판매량']\n",
    "y_valid = y_valid.clip(0, 20)"
   ]
  },
  {
   "cell_type": "code",
   "execution_count": 20,
   "id": "6761c0a0",
   "metadata": {
    "execution": {
     "iopub.execute_input": "2022-08-26T07:13:10.932928Z",
     "iopub.status.busy": "2022-08-26T07:13:10.931749Z",
     "iopub.status.idle": "2022-08-26T07:13:11.038526Z",
     "shell.execute_reply": "2022-08-26T07:13:11.037818Z"
    },
    "papermill": {
     "duration": 0.139208,
     "end_time": "2022-08-26T07:13:11.038694",
     "exception": false,
     "start_time": "2022-08-26T07:13:10.899486",
     "status": "completed"
    },
    "tags": []
   },
   "outputs": [],
   "source": [
    "del all_data\n",
    "gc.collect();"
   ]
  },
  {
   "cell_type": "markdown",
   "id": "52ff62c0",
   "metadata": {
    "papermill": {
     "duration": 0.027817,
     "end_time": "2022-08-26T07:13:11.097334",
     "exception": false,
     "start_time": "2022-08-26T07:13:11.069517",
     "status": "completed"
    },
    "tags": []
   },
   "source": [
    "## 9.3.8 모델 훈련 및 성능 검증"
   ]
  },
  {
   "cell_type": "code",
   "execution_count": 21,
   "id": "8b6aabd2",
   "metadata": {
    "execution": {
     "iopub.execute_input": "2022-08-26T07:13:11.162364Z",
     "iopub.status.busy": "2022-08-26T07:13:11.158293Z",
     "iopub.status.idle": "2022-08-26T07:16:16.929169Z",
     "shell.execute_reply": "2022-08-26T07:16:16.929756Z"
    },
    "papermill": {
     "duration": 185.802548,
     "end_time": "2022-08-26T07:16:16.930033",
     "exception": false,
     "start_time": "2022-08-26T07:13:11.127485",
     "status": "completed"
    },
    "tags": []
   },
   "outputs": [
    {
     "data": {
      "text/html": [
       "<style type='text/css'>\n",
       ".datatable table.frame { margin-bottom: 0; }\n",
       ".datatable table.frame thead { border-bottom: none; }\n",
       ".datatable table.frame tr.coltypes td {  color: #FFFFFF;  line-height: 6px;  padding: 0 0.5em;}\n",
       ".datatable .bool    { background: #DDDD99; }\n",
       ".datatable .object  { background: #565656; }\n",
       ".datatable .int     { background: #5D9E5D; }\n",
       ".datatable .float   { background: #4040CC; }\n",
       ".datatable .str     { background: #CC4040; }\n",
       ".datatable .time    { background: #40CC40; }\n",
       ".datatable .row_index {  background: var(--jp-border-color3);  border-right: 1px solid var(--jp-border-color0);  color: var(--jp-ui-font-color3);  font-size: 9px;}\n",
       ".datatable .frame tbody td { text-align: left; }\n",
       ".datatable .frame tr.coltypes .row_index {  background: var(--jp-border-color0);}\n",
       ".datatable th:nth-child(2) { padding-left: 12px; }\n",
       ".datatable .hellipsis {  color: var(--jp-cell-editor-border-color);}\n",
       ".datatable .vellipsis {  background: var(--jp-layout-color0);  color: var(--jp-cell-editor-border-color);}\n",
       ".datatable .na {  color: var(--jp-cell-editor-border-color);  font-size: 80%;}\n",
       ".datatable .sp {  opacity: 0.25;}\n",
       ".datatable .footer { font-size: 9px; }\n",
       ".datatable .frame_dimensions {  background: var(--jp-border-color3);  border-top: 1px solid var(--jp-border-color0);  color: var(--jp-ui-font-color3);  display: inline-block;  opacity: 0.6;  padding: 1px 10px 1px 5px;}\n",
       "</style>\n"
      ],
      "text/plain": [
       "<IPython.core.display.HTML object>"
      ]
     },
     "metadata": {},
     "output_type": "display_data"
    },
    {
     "name": "stdout",
     "output_type": "stream",
     "text": [
      "[LightGBM] [Info] Total Bins 424\n",
      "[LightGBM] [Info] Number of data points in the train set: 10675678, number of used features: 4\n",
      "[LightGBM] [Info] Start training from score 0.299125\n",
      "[50]\ttraining's rmse: 1.1478\tvalid_1's rmse: 1.06808\n",
      "[100]\ttraining's rmse: 1.11378\tvalid_1's rmse: 1.03754\n",
      "[150]\ttraining's rmse: 1.09616\tvalid_1's rmse: 1.02483\n",
      "[200]\ttraining's rmse: 1.08478\tvalid_1's rmse: 1.01789\n",
      "[250]\ttraining's rmse: 1.07631\tvalid_1's rmse: 1.01369\n",
      "[300]\ttraining's rmse: 1.06928\tvalid_1's rmse: 1.00976\n",
      "[350]\ttraining's rmse: 1.06362\tvalid_1's rmse: 1.00754\n",
      "[400]\ttraining's rmse: 1.05729\tvalid_1's rmse: 1.00543\n",
      "[450]\ttraining's rmse: 1.05223\tvalid_1's rmse: 1.00397\n",
      "[500]\ttraining's rmse: 1.04798\tvalid_1's rmse: 1.00336\n"
     ]
    }
   ],
   "source": [
    "import lightgbm as lgb\n",
    "\n",
    "# LightGBM 하이퍼파라미터\n",
    "params = {'metric': 'rmse', # 평가지표 = rmse\n",
    "          'num_leaves': 255,\n",
    "          'learning_rate': 0.01,\n",
    "          'force_col_wise': True,\n",
    "          'random_state': 10}\n",
    "\n",
    "# 범주형 피처 설정\n",
    "cat_features = ['상점ID', '상품분류ID']\n",
    "\n",
    "# LightGBM 훈련 및 검증 데이터셋\n",
    "dtrain = lgb.Dataset(X_train, y_train)\n",
    "dvalid = lgb.Dataset(X_valid, y_valid)\n",
    "\n",
    "# LightGBM 모델 훈련\n",
    "lgb_model = lgb.train(params=params,\n",
    "                      train_set=dtrain,\n",
    "                      num_boost_round=500,\n",
    "                      valid_sets=(dtrain, dvalid),\n",
    "                      categorical_feature=cat_features,\n",
    "                      verbose_eval=50)  "
   ]
  },
  {
   "cell_type": "markdown",
   "id": "f706c7f3",
   "metadata": {
    "papermill": {
     "duration": 0.030291,
     "end_time": "2022-08-26T07:16:16.991343",
     "exception": false,
     "start_time": "2022-08-26T07:16:16.961052",
     "status": "completed"
    },
    "tags": []
   },
   "source": [
    "## 9.3.9 예측 및 결과 제출"
   ]
  },
  {
   "cell_type": "code",
   "execution_count": 22,
   "id": "551431af",
   "metadata": {
    "execution": {
     "iopub.execute_input": "2022-08-26T07:16:17.056441Z",
     "iopub.status.busy": "2022-08-26T07:16:17.055723Z",
     "iopub.status.idle": "2022-08-26T07:16:23.619905Z",
     "shell.execute_reply": "2022-08-26T07:16:23.620620Z"
    },
    "papermill": {
     "duration": 6.59864,
     "end_time": "2022-08-26T07:16:23.620861",
     "exception": false,
     "start_time": "2022-08-26T07:16:17.022221",
     "status": "completed"
    },
    "tags": []
   },
   "outputs": [],
   "source": [
    "# 예측\n",
    "preds = lgb_model.predict(X_test).clip(0, 20)\n",
    "# 제출 파일 생성\n",
    "submission['item_cnt_month'] = preds\n",
    "submission.to_csv('submission.csv', index=False)"
   ]
  },
  {
   "cell_type": "code",
   "execution_count": 23,
   "id": "6657d595",
   "metadata": {
    "execution": {
     "iopub.execute_input": "2022-08-26T07:16:23.687811Z",
     "iopub.status.busy": "2022-08-26T07:16:23.686939Z",
     "iopub.status.idle": "2022-08-26T07:16:23.822508Z",
     "shell.execute_reply": "2022-08-26T07:16:23.821850Z"
    },
    "papermill": {
     "duration": 0.169794,
     "end_time": "2022-08-26T07:16:23.822696",
     "exception": false,
     "start_time": "2022-08-26T07:16:23.652902",
     "status": "completed"
    },
    "tags": []
   },
   "outputs": [],
   "source": [
    "del X_train, y_train, X_valid, y_valid, X_test, lgb_model, dtrain, dvalid\n",
    "gc.collect();"
   ]
  }
 ],
 "metadata": {
  "kernelspec": {
   "display_name": "Python 3",
   "language": "python",
   "name": "python3"
  },
  "language_info": {
   "codemirror_mode": {
    "name": "ipython",
    "version": 3
   },
   "file_extension": ".py",
   "mimetype": "text/x-python",
   "name": "python",
   "nbconvert_exporter": "python",
   "pygments_lexer": "ipython3",
   "version": "3.7.10"
  },
  "papermill": {
   "default_parameters": {},
   "duration": 238.998631,
   "end_time": "2022-08-26T07:16:25.281669",
   "environment_variables": {},
   "exception": null,
   "input_path": "__notebook__.ipynb",
   "output_path": "__notebook__.ipynb",
   "parameters": {},
   "start_time": "2022-08-26T07:12:26.283038",
   "version": "2.3.3"
  }
 },
 "nbformat": 4,
 "nbformat_minor": 5
}
